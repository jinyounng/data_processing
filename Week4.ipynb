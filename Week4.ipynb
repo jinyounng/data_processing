{
 "cells": [
  {
   "cell_type": "markdown",
   "id": "18f9a9e8",
   "metadata": {},
   "source": [
    "# Numpy"
   ]
  },
  {
   "cell_type": "code",
   "execution_count": 1,
   "id": "5fcb1100",
   "metadata": {},
   "outputs": [],
   "source": [
    "import numpy as np"
   ]
  },
  {
   "cell_type": "code",
   "execution_count": 2,
   "id": "7c0b6aad",
   "metadata": {},
   "outputs": [],
   "source": [
    "a = np.array(([1,2],[3,4]))"
   ]
  },
  {
   "cell_type": "code",
   "execution_count": 3,
   "id": "5a704752",
   "metadata": {},
   "outputs": [
    {
     "data": {
      "text/plain": [
       "array([[1, 2],\n",
       "       [3, 4]])"
      ]
     },
     "execution_count": 3,
     "metadata": {},
     "output_type": "execute_result"
    }
   ],
   "source": [
    "a"
   ]
  },
  {
   "cell_type": "markdown",
   "id": "99daae9f",
   "metadata": {},
   "source": [
    "## basic indexing"
   ]
  },
  {
   "cell_type": "code",
   "execution_count": 7,
   "id": "9caa715e",
   "metadata": {},
   "outputs": [],
   "source": [
    "x = np.arange(5,10)"
   ]
  },
  {
   "cell_type": "code",
   "execution_count": 8,
   "id": "7a653f98",
   "metadata": {},
   "outputs": [
    {
     "data": {
      "text/plain": [
       "array([5, 6, 7, 8, 9])"
      ]
     },
     "execution_count": 8,
     "metadata": {},
     "output_type": "execute_result"
    }
   ],
   "source": [
    "x"
   ]
  },
  {
   "cell_type": "code",
   "execution_count": 12,
   "id": "1780203e",
   "metadata": {},
   "outputs": [
    {
     "data": {
      "text/plain": [
       "8"
      ]
     },
     "execution_count": 12,
     "metadata": {},
     "output_type": "execute_result"
    }
   ],
   "source": [
    "x[-2]"
   ]
  },
  {
   "cell_type": "markdown",
   "id": "9b5fd18d",
   "metadata": {},
   "source": [
    "## basic slicing and striding"
   ]
  },
  {
   "cell_type": "code",
   "execution_count": 13,
   "id": "25b53369",
   "metadata": {},
   "outputs": [],
   "source": [
    "x = np.array([0, 1, 2, 3, 4, 5, 6, 7, 8, 9])    # np.arange(10)"
   ]
  },
  {
   "cell_type": "code",
   "execution_count": 17,
   "id": "4052fb90",
   "metadata": {},
   "outputs": [
    {
     "data": {
      "text/plain": [
       "array([1, 4])"
      ]
     },
     "execution_count": 17,
     "metadata": {},
     "output_type": "execute_result"
    }
   ],
   "source": [
    "x[1:7:3]   #i,j,k :  i is the starting index, j is the stopping index, and k is the step "
   ]
  },
  {
   "cell_type": "code",
   "execution_count": 15,
   "id": "6c161689",
   "metadata": {},
   "outputs": [
    {
     "data": {
      "text/plain": [
       "array([1, 2, 3, 4, 5, 6])"
      ]
     },
     "execution_count": 15,
     "metadata": {},
     "output_type": "execute_result"
    }
   ],
   "source": [
    "x[1:7]"
   ]
  },
  {
   "cell_type": "code",
   "execution_count": 18,
   "id": "1344dd16",
   "metadata": {},
   "outputs": [
    {
     "data": {
      "text/plain": [
       "array([0, 1, 2, 3])"
      ]
     },
     "execution_count": 18,
     "metadata": {},
     "output_type": "execute_result"
    }
   ],
   "source": [
    "x[:4]"
   ]
  },
  {
   "cell_type": "code",
   "execution_count": 19,
   "id": "26e791cc",
   "metadata": {},
   "outputs": [
    {
     "data": {
      "text/plain": [
       "array([2, 3, 4, 5, 6, 7, 8, 9])"
      ]
     },
     "execution_count": 19,
     "metadata": {},
     "output_type": "execute_result"
    }
   ],
   "source": [
    "x[2:]"
   ]
  },
  {
   "cell_type": "code",
   "execution_count": 20,
   "id": "48213756",
   "metadata": {},
   "outputs": [
    {
     "data": {
      "text/plain": [
       "9"
      ]
     },
     "execution_count": 20,
     "metadata": {},
     "output_type": "execute_result"
    }
   ],
   "source": [
    "x[-1]"
   ]
  },
  {
   "cell_type": "code",
   "execution_count": 21,
   "id": "1600da07",
   "metadata": {},
   "outputs": [
    {
     "data": {
      "text/plain": [
       "array([0, 1, 2, 3, 4, 5, 6])"
      ]
     },
     "execution_count": 21,
     "metadata": {},
     "output_type": "execute_result"
    }
   ],
   "source": [
    "x[:-3]"
   ]
  },
  {
   "cell_type": "code",
   "execution_count": 22,
   "id": "256d51a9",
   "metadata": {},
   "outputs": [
    {
     "data": {
      "text/plain": [
       "array([7, 8, 9])"
      ]
     },
     "execution_count": 22,
     "metadata": {},
     "output_type": "execute_result"
    }
   ],
   "source": [
    "x[-3:]"
   ]
  },
  {
   "cell_type": "markdown",
   "id": "6c63ce17",
   "metadata": {},
   "source": [
    "## advanced indexing"
   ]
  },
  {
   "cell_type": "markdown",
   "id": "6fe31bc2",
   "metadata": {},
   "source": [
    "Integer array indexing"
   ]
  },
  {
   "cell_type": "code",
   "execution_count": 26,
   "id": "6f54ed40",
   "metadata": {},
   "outputs": [
    {
     "data": {
      "text/plain": [
       "array([ 5,  6,  7,  8,  9, 10, 11, 12, 13, 14])"
      ]
     },
     "execution_count": 26,
     "metadata": {},
     "output_type": "execute_result"
    }
   ],
   "source": [
    "x = np.arange(5,15)\n",
    "x"
   ]
  },
  {
   "cell_type": "code",
   "execution_count": 28,
   "id": "7a928c34",
   "metadata": {},
   "outputs": [
    {
     "data": {
      "text/plain": [
       "array([9, 7])"
      ]
     },
     "execution_count": 28,
     "metadata": {},
     "output_type": "execute_result"
    }
   ],
   "source": [
    "x[np.array([4,2])]"
   ]
  },
  {
   "cell_type": "markdown",
   "id": "e7474678",
   "metadata": {},
   "source": [
    "## repeat"
   ]
  },
  {
   "cell_type": "code",
   "execution_count": 36,
   "id": "1a81779b",
   "metadata": {},
   "outputs": [
    {
     "data": {
      "text/plain": [
       "(2, 2)"
      ]
     },
     "execution_count": 36,
     "metadata": {},
     "output_type": "execute_result"
    }
   ],
   "source": [
    "a = np.array(([1,2],[3,4]))\n",
    "a.shape"
   ]
  },
  {
   "cell_type": "code",
   "execution_count": 33,
   "id": "563f351e",
   "metadata": {},
   "outputs": [
    {
     "data": {
      "text/plain": [
       "array([[1, 1, 1, 2, 2, 2],\n",
       "       [3, 3, 3, 4, 4, 4]])"
      ]
     },
     "execution_count": 33,
     "metadata": {},
     "output_type": "execute_result"
    }
   ],
   "source": [
    "np.repeat(a, 3,axis=1)"
   ]
  },
  {
   "cell_type": "code",
   "execution_count": 34,
   "id": "b68bafd5",
   "metadata": {},
   "outputs": [
    {
     "data": {
      "text/plain": [
       "array([[1, 1, 2, 2],\n",
       "       [3, 3, 4, 4]])"
      ]
     },
     "execution_count": 34,
     "metadata": {},
     "output_type": "execute_result"
    }
   ],
   "source": [
    "np.repeat(a, 2,axis=1)"
   ]
  },
  {
   "cell_type": "code",
   "execution_count": 35,
   "id": "38b60c5a",
   "metadata": {},
   "outputs": [
    {
     "data": {
      "text/plain": [
       "array([[1, 1, 2, 2],\n",
       "       [3, 3, 4, 4]])"
      ]
     },
     "execution_count": 35,
     "metadata": {},
     "output_type": "execute_result"
    }
   ],
   "source": [
    "np.repeat(a, 2,axis=-1)"
   ]
  },
  {
   "cell_type": "markdown",
   "id": "02124712",
   "metadata": {},
   "source": [
    "## flatten"
   ]
  },
  {
   "cell_type": "code",
   "execution_count": 37,
   "id": "76e2e8d0",
   "metadata": {},
   "outputs": [
    {
     "data": {
      "text/plain": [
       "array([1, 2, 3, 4])"
      ]
     },
     "execution_count": 37,
     "metadata": {},
     "output_type": "execute_result"
    }
   ],
   "source": [
    "a.flatten()"
   ]
  },
  {
   "cell_type": "code",
   "execution_count": 38,
   "id": "e951b57c",
   "metadata": {},
   "outputs": [],
   "source": [
    "b = np.array(([5,6],[7,8]))"
   ]
  },
  {
   "cell_type": "code",
   "execution_count": null,
   "id": "e6c6ccf1",
   "metadata": {},
   "outputs": [],
   "source": [
    "b"
   ]
  },
  {
   "cell_type": "markdown",
   "id": "75c293f3",
   "metadata": {},
   "source": [
    "## concatenate"
   ]
  },
  {
   "cell_type": "code",
   "execution_count": 39,
   "id": "b52c37ac",
   "metadata": {},
   "outputs": [
    {
     "data": {
      "text/plain": [
       "array([[1, 2],\n",
       "       [3, 4],\n",
       "       [5, 6],\n",
       "       [7, 8]])"
      ]
     },
     "execution_count": 39,
     "metadata": {},
     "output_type": "execute_result"
    }
   ],
   "source": [
    "np.concatenate((a,b))"
   ]
  },
  {
   "cell_type": "code",
   "execution_count": 40,
   "id": "992961d6",
   "metadata": {},
   "outputs": [
    {
     "data": {
      "text/plain": [
       "array([[1, 2],\n",
       "       [3, 4],\n",
       "       [5, 6],\n",
       "       [7, 8]])"
      ]
     },
     "execution_count": 40,
     "metadata": {},
     "output_type": "execute_result"
    }
   ],
   "source": [
    "np.concatenate((a,b), axis=0)"
   ]
  },
  {
   "cell_type": "code",
   "execution_count": 41,
   "id": "925e2c3f",
   "metadata": {},
   "outputs": [
    {
     "data": {
      "text/plain": [
       "array([[1, 2, 5, 6],\n",
       "       [3, 4, 7, 8]])"
      ]
     },
     "execution_count": 41,
     "metadata": {},
     "output_type": "execute_result"
    }
   ],
   "source": [
    "np.concatenate((a,b), axis=1)"
   ]
  },
  {
   "cell_type": "markdown",
   "id": "f6a68178",
   "metadata": {},
   "source": [
    "## transpose"
   ]
  },
  {
   "cell_type": "code",
   "execution_count": 42,
   "id": "00bff486",
   "metadata": {},
   "outputs": [
    {
     "data": {
      "text/plain": [
       "array([[1, 3],\n",
       "       [2, 4]])"
      ]
     },
     "execution_count": 42,
     "metadata": {},
     "output_type": "execute_result"
    }
   ],
   "source": [
    "np.transpose(a)"
   ]
  },
  {
   "cell_type": "markdown",
   "id": "e297940b",
   "metadata": {},
   "source": [
    "## reshape"
   ]
  },
  {
   "cell_type": "code",
   "execution_count": 43,
   "id": "bbef2970",
   "metadata": {},
   "outputs": [
    {
     "data": {
      "text/plain": [
       "array([0, 1, 2, 3, 4, 5])"
      ]
     },
     "execution_count": 43,
     "metadata": {},
     "output_type": "execute_result"
    }
   ],
   "source": [
    "np.arange(6)"
   ]
  },
  {
   "cell_type": "code",
   "execution_count": 52,
   "id": "36e9ffd8",
   "metadata": {},
   "outputs": [
    {
     "data": {
      "text/plain": [
       "array([[[ 0,  1,  2],\n",
       "        [ 3,  4,  5]],\n",
       "\n",
       "       [[ 6,  7,  8],\n",
       "        [ 9, 10, 11]]])"
      ]
     },
     "execution_count": 52,
     "metadata": {},
     "output_type": "execute_result"
    }
   ],
   "source": [
    "np.arange(12).reshape((2,-1,3))"
   ]
  },
  {
   "cell_type": "code",
   "execution_count": 49,
   "id": "e91ad6fe",
   "metadata": {},
   "outputs": [
    {
     "data": {
      "text/plain": [
       "array([1, 2, 3, 4, 5, 6])"
      ]
     },
     "execution_count": 49,
     "metadata": {},
     "output_type": "execute_result"
    }
   ],
   "source": [
    "a = np.array([[1,2,3], [4,5,6]])\n",
    "np.reshape(a,6)"
   ]
  },
  {
   "cell_type": "code",
   "execution_count": 50,
   "id": "1f1e4215",
   "metadata": {},
   "outputs": [
    {
     "data": {
      "text/plain": [
       "array([[1, 2],\n",
       "       [3, 4],\n",
       "       [5, 6]])"
      ]
     },
     "execution_count": 50,
     "metadata": {},
     "output_type": "execute_result"
    }
   ],
   "source": [
    "np.reshape(a, (3,2))"
   ]
  },
  {
   "cell_type": "code",
   "execution_count": 51,
   "id": "d700e47f",
   "metadata": {},
   "outputs": [
    {
     "data": {
      "text/plain": [
       "array([[1, 2],\n",
       "       [3, 4],\n",
       "       [5, 6]])"
      ]
     },
     "execution_count": 51,
     "metadata": {},
     "output_type": "execute_result"
    }
   ],
   "source": [
    "np.reshape(a, (3,-1,))"
   ]
  },
  {
   "cell_type": "markdown",
   "id": "7c2f203f",
   "metadata": {},
   "source": [
    "## squeeze"
   ]
  },
  {
   "cell_type": "markdown",
   "id": "5ca68e80",
   "metadata": {},
   "source": [
    "remove axes of length one from input"
   ]
  },
  {
   "cell_type": "code",
   "execution_count": 53,
   "id": "ac166805",
   "metadata": {},
   "outputs": [],
   "source": [
    "t = np.arange(6)"
   ]
  },
  {
   "cell_type": "code",
   "execution_count": 54,
   "id": "eea3e457",
   "metadata": {},
   "outputs": [
    {
     "data": {
      "text/plain": [
       "(6,)"
      ]
     },
     "execution_count": 54,
     "metadata": {},
     "output_type": "execute_result"
    }
   ],
   "source": [
    "t.shape"
   ]
  },
  {
   "cell_type": "code",
   "execution_count": 56,
   "id": "b2e49f6c",
   "metadata": {},
   "outputs": [],
   "source": [
    "t = np.reshape(t,(6,1))"
   ]
  },
  {
   "cell_type": "code",
   "execution_count": 57,
   "id": "9b82e01c",
   "metadata": {},
   "outputs": [
    {
     "data": {
      "text/plain": [
       "(6, 1)"
      ]
     },
     "execution_count": 57,
     "metadata": {},
     "output_type": "execute_result"
    }
   ],
   "source": [
    "t.shape"
   ]
  },
  {
   "cell_type": "code",
   "execution_count": 58,
   "id": "5c3a8549",
   "metadata": {},
   "outputs": [
    {
     "data": {
      "text/plain": [
       "array([0, 1, 2, 3, 4, 5])"
      ]
     },
     "execution_count": 58,
     "metadata": {},
     "output_type": "execute_result"
    }
   ],
   "source": [
    "np.squeeze(t)"
   ]
  },
  {
   "cell_type": "markdown",
   "id": "7641cbca",
   "metadata": {},
   "source": [
    "## stack"
   ]
  },
  {
   "cell_type": "markdown",
   "id": "9d800c26",
   "metadata": {},
   "source": [
    "Join a sequence of arrays along a new axis."
   ]
  },
  {
   "cell_type": "code",
   "execution_count": null,
   "id": "4cd49e05",
   "metadata": {},
   "outputs": [],
   "source": [
    "array = np.random.randn(3, 4) \n",
    "array"
   ]
  },
  {
   "cell_type": "code",
   "execution_count": null,
   "id": "cc31f03d",
   "metadata": {},
   "outputs": [],
   "source": [
    "arrays = [np.random.randn(3, 4) for _ in range(10)]\n",
    "arrays"
   ]
  },
  {
   "cell_type": "code",
   "execution_count": null,
   "id": "8c0f1f1d",
   "metadata": {},
   "outputs": [],
   "source": [
    "arrays"
   ]
  },
  {
   "cell_type": "code",
   "execution_count": null,
   "id": "a902972f",
   "metadata": {},
   "outputs": [],
   "source": [
    "np.stack(arrays, axis=0).shape"
   ]
  },
  {
   "cell_type": "code",
   "execution_count": null,
   "id": "435d75f1",
   "metadata": {},
   "outputs": [],
   "source": [
    "np.stack(arrays, axis=1).shape"
   ]
  },
  {
   "cell_type": "code",
   "execution_count": null,
   "id": "1bd77923",
   "metadata": {},
   "outputs": [],
   "source": [
    "np.stack(arrays, axis=2).shape"
   ]
  },
  {
   "cell_type": "markdown",
   "id": "af2a273d",
   "metadata": {},
   "source": [
    "## vstack"
   ]
  },
  {
   "cell_type": "markdown",
   "id": "b7c6d23d",
   "metadata": {},
   "source": [
    "stack arrays in sequence vertically (row wise)"
   ]
  },
  {
   "cell_type": "code",
   "execution_count": null,
   "id": "f3d9a000",
   "metadata": {},
   "outputs": [],
   "source": [
    "a = np.array([1, 2, 3])\n",
    "b = np.array([4, 5, 6])"
   ]
  },
  {
   "cell_type": "code",
   "execution_count": null,
   "id": "32d78c58",
   "metadata": {},
   "outputs": [],
   "source": [
    "np.vstack((a,b))"
   ]
  },
  {
   "cell_type": "code",
   "execution_count": null,
   "id": "94e9604a",
   "metadata": {},
   "outputs": [],
   "source": [
    "a = np.array([[1], [2], [3]])\n",
    "b = np.array([[4], [5], [6]])"
   ]
  },
  {
   "cell_type": "code",
   "execution_count": null,
   "id": "9b98932d",
   "metadata": {},
   "outputs": [],
   "source": [
    "np.vstack((a,b))"
   ]
  },
  {
   "cell_type": "markdown",
   "id": "bdfe8d16",
   "metadata": {},
   "source": [
    "## hstack"
   ]
  },
  {
   "cell_type": "markdown",
   "id": "7c1e7078",
   "metadata": {},
   "source": [
    "Stack arrays in sequence horizontally (column wise)"
   ]
  },
  {
   "cell_type": "code",
   "execution_count": null,
   "id": "8f9897d8",
   "metadata": {},
   "outputs": [],
   "source": [
    "a = np.array([1, 2, 3])\n",
    "b = np.array([4, 5, 6])"
   ]
  },
  {
   "cell_type": "code",
   "execution_count": null,
   "id": "68e5698f",
   "metadata": {},
   "outputs": [],
   "source": [
    "np.hstack((a,b))"
   ]
  },
  {
   "cell_type": "code",
   "execution_count": null,
   "id": "426c6323",
   "metadata": {},
   "outputs": [],
   "source": [
    "a = np.array([[1],[2],[3]])\n",
    "b = np.array([[4],[5],[6]])"
   ]
  },
  {
   "cell_type": "code",
   "execution_count": null,
   "id": "035ec324",
   "metadata": {},
   "outputs": [],
   "source": [
    "np.hstack((a,b))"
   ]
  },
  {
   "cell_type": "markdown",
   "id": "60f23f38",
   "metadata": {},
   "source": [
    "## split"
   ]
  },
  {
   "cell_type": "markdown",
   "id": "451d66bd",
   "metadata": {},
   "source": [
    "Split an array into multiple sub-arrays as views into ary."
   ]
  },
  {
   "cell_type": "code",
   "execution_count": null,
   "id": "14dae6f9",
   "metadata": {},
   "outputs": [],
   "source": [
    "x = np.arange(9.0)"
   ]
  },
  {
   "cell_type": "code",
   "execution_count": null,
   "id": "eaf4cdef",
   "metadata": {},
   "outputs": [],
   "source": [
    "np.split(x, 3)"
   ]
  },
  {
   "cell_type": "code",
   "execution_count": null,
   "id": "f8d60690",
   "metadata": {},
   "outputs": [],
   "source": [
    "np.split(x, 4)"
   ]
  },
  {
   "cell_type": "code",
   "execution_count": null,
   "id": "d3dee7d2",
   "metadata": {},
   "outputs": [],
   "source": [
    "x = np.arange(8.0)\n",
    "np.split(x, [3, 5, 6, 10])"
   ]
  },
  {
   "cell_type": "markdown",
   "id": "69649261",
   "metadata": {},
   "source": [
    "## flip"
   ]
  },
  {
   "cell_type": "markdown",
   "id": "053b6109",
   "metadata": {},
   "source": [
    "Reverse the order of elements in an array along the given axis.\n",
    "\n",
    "The shape of the array is preserved, but the elements are reordered."
   ]
  },
  {
   "cell_type": "code",
   "execution_count": null,
   "id": "52cec694",
   "metadata": {},
   "outputs": [],
   "source": [
    "A = np.arange(8).reshape((2,2,2))"
   ]
  },
  {
   "cell_type": "code",
   "execution_count": null,
   "id": "2f39855c",
   "metadata": {},
   "outputs": [],
   "source": [
    "A"
   ]
  },
  {
   "cell_type": "code",
   "execution_count": null,
   "id": "ad91b0be",
   "metadata": {},
   "outputs": [],
   "source": [
    "np.flip(A,0)"
   ]
  },
  {
   "cell_type": "code",
   "execution_count": null,
   "id": "d7a5840a",
   "metadata": {},
   "outputs": [],
   "source": [
    "np.flip(A,1)"
   ]
  },
  {
   "cell_type": "code",
   "execution_count": null,
   "id": "a6dcec50",
   "metadata": {},
   "outputs": [],
   "source": [
    "np.flip(A,2)"
   ]
  },
  {
   "cell_type": "markdown",
   "id": "a9a81f70",
   "metadata": {},
   "source": [
    "## trim_zeros"
   ]
  },
  {
   "cell_type": "markdown",
   "id": "c3283a27",
   "metadata": {},
   "source": [
    "Trim the leading and/or trailing zeros from a 1-D array or sequence."
   ]
  },
  {
   "cell_type": "code",
   "execution_count": null,
   "id": "3795442a",
   "metadata": {},
   "outputs": [],
   "source": [
    "a = np.array((0, 0, 0, 1, 2, 3, 0, 2, 1, 0))"
   ]
  },
  {
   "cell_type": "code",
   "execution_count": null,
   "id": "6ced9121",
   "metadata": {},
   "outputs": [],
   "source": [
    "np.trim_zeros(a)"
   ]
  },
  {
   "cell_type": "code",
   "execution_count": null,
   "id": "cda5d5d6",
   "metadata": {},
   "outputs": [],
   "source": [
    "np.trim_zeros(a,'f')"
   ]
  },
  {
   "cell_type": "code",
   "execution_count": null,
   "id": "97bea775",
   "metadata": {},
   "outputs": [],
   "source": [
    "np.trim_zeros(a,'b')"
   ]
  },
  {
   "cell_type": "code",
   "execution_count": null,
   "id": "5145b799",
   "metadata": {},
   "outputs": [],
   "source": [
    "np.ma.masked_equal(a,0)"
   ]
  },
  {
   "cell_type": "code",
   "execution_count": null,
   "id": "e04a0115",
   "metadata": {},
   "outputs": [],
   "source": []
  }
 ],
 "metadata": {
  "kernelspec": {
   "display_name": "Python 3 (ipykernel)",
   "language": "python",
   "name": "python3"
  },
  "language_info": {
   "codemirror_mode": {
    "name": "ipython",
    "version": 3
   },
   "file_extension": ".py",
   "mimetype": "text/x-python",
   "name": "python",
   "nbconvert_exporter": "python",
   "pygments_lexer": "ipython3",
   "version": "3.9.13"
  }
 },
 "nbformat": 4,
 "nbformat_minor": 5
}
